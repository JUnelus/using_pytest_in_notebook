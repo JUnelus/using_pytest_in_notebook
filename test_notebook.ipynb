{
 "cells": [
  {
   "cell_type": "code",
   "id": "initial_id",
   "metadata": {
    "collapsed": true,
    "ExecuteTime": {
     "end_time": "2024-09-05T01:33:56.257305Z",
     "start_time": "2024-09-05T01:33:56.249360Z"
    }
   },
   "source": [
    "def test_something(foo):\n",
    "    assert foo"
   ],
   "outputs": [],
   "execution_count": 1
  },
  {
   "metadata": {
    "ExecuteTime": {
     "end_time": "2024-09-05T01:34:23.349330Z",
     "start_time": "2024-09-05T01:34:23.180101Z"
    }
   },
   "cell_type": "code",
   "source": "from hypothesis import assume, given, strategies as st",
   "id": "332b01c4051ccf85",
   "outputs": [],
   "execution_count": 2
  },
  {
   "metadata": {
    "ExecuteTime": {
     "end_time": "2024-09-05T01:34:24.362034Z",
     "start_time": "2024-09-05T01:34:24.355993Z"
    }
   },
   "cell_type": "code",
   "source": [
    "@given(i=st.integers())\n",
    "def test_hypothesis(i):\n",
    "    assume(i)\n",
    "    assert i"
   ],
   "id": "738f3e2c6a56596c",
   "outputs": [],
   "execution_count": 3
  },
  {
   "metadata": {
    "ExecuteTime": {
     "end_time": "2024-09-05T01:34:26.352537Z",
     "start_time": "2024-09-05T01:34:26.347658Z"
    }
   },
   "cell_type": "code",
   "source": [
    "from functools import partial\n",
    "from time import sleep"
   ],
   "id": "70d0e422de722177",
   "outputs": [],
   "execution_count": 4
  },
  {
   "metadata": {
    "ExecuteTime": {
     "end_time": "2024-09-05T01:34:32.836084Z",
     "start_time": "2024-09-05T01:34:32.832218Z"
    }
   },
   "cell_type": "code",
   "source": [
    "def test_sleep(benchmark):\n",
    "    assert not benchmark(partial(sleep, .2))"
   ],
   "id": "2bf24cd6051bbf83",
   "outputs": [],
   "execution_count": 5
  },
  {
   "metadata": {
    "ExecuteTime": {
     "end_time": "2024-09-05T01:34:57.516638Z",
     "start_time": "2024-09-05T01:34:54.251927Z"
    }
   },
   "cell_type": "code",
   "source": [
    "if __name__ == '__main__':\n",
    "    __import__('pytest').main(args=[])"
   ],
   "id": "eb1a5ac0c6e0b28d",
   "outputs": [
    {
     "name": "stdout",
     "output_type": "stream",
     "text": [
      "\u001B[1m============================= test session starts =============================\u001B[0m\n",
      "platform win32 -- Python 3.11.9, pytest-8.3.2, pluggy-1.5.0\n",
      "benchmark: 4.0.0 (defaults: timer=time.perf_counter disable_gc=False min_rounds=5 min_time=0.000005 max_time=1.0 calibration_precision=10 warmup=False warmup_iterations=100000)\n",
      "rootdir: C:\\Users\\big_j\\PycharmProjects\\using_pytest_in_notebook\n",
      "plugins: anyio-4.4.0, hypothesis-6.111.2, importnb-2023.11.1, benchmark-4.0.0, cov-5.0.0\n",
      "collected 3 items\n",
      "\n",
      "test_notebook.ipynb \u001B[32m.\u001B[0m\u001B[32m.\u001B[0m\u001B[32m.\u001B[0m\u001B[33m                                                  [100%]\u001B[0m\n",
      "\n",
      "\u001B[33m============================== warnings summary ===============================\u001B[0m\n",
      "venv\\Lib\\site-packages\\_pytest\\config\\__init__.py:1273\n",
      "  C:\\Users\\big_j\\PycharmProjects\\using_pytest_in_notebook\\venv\\Lib\\site-packages\\_pytest\\config\\__init__.py:1273: PytestAssertRewriteWarning: Module already imported so cannot be rewritten: _hypothesis_globals\n",
      "    self._mark_plugins_for_rewrite(hook)\n",
      "\n",
      "venv\\Lib\\site-packages\\_pytest\\config\\__init__.py:1273\n",
      "  C:\\Users\\big_j\\PycharmProjects\\using_pytest_in_notebook\\venv\\Lib\\site-packages\\_pytest\\config\\__init__.py:1273: PytestAssertRewriteWarning: Module already imported so cannot be rewritten: hypothesis\n",
      "    self._mark_plugins_for_rewrite(hook)\n",
      "\n",
      "-- Docs: https://docs.pytest.org/en/stable/how-to/capture-warnings.html\n",
      "\n",
      "\u001B[33m----------------------------------------------- benchmark: 1 tests -----------------------------------------------\u001B[0m\n",
      "Name (time in ms)          Min       Max      Mean  StdDev    Median     IQR  Outliers     OPS  Rounds  Iterations\n",
      "\u001B[33m------------------------------------------------------------------------------------------------------------------\u001B[0m\n",
      "test_sleep          \u001B[1m  200.2140\u001B[0m\u001B[1m  200.4300\u001B[0m\u001B[1m  200.3198\u001B[0m\u001B[1m  0.0812\u001B[0m\u001B[1m  200.2973\u001B[0m\u001B[1m  0.1057\u001B[0m       2;0\u001B[1m  4.9920\u001B[0m       5           1\n",
      "\u001B[33m------------------------------------------------------------------------------------------------------------------\u001B[0m\n",
      "\n",
      "Legend:\n",
      "  Outliers: 1 Standard Deviation from Mean; 1.5 IQR (InterQuartile Range) from 1st Quartile and 3rd Quartile.\n",
      "  OPS: Operations Per Second, computed as 1 / Mean\n",
      "\u001B[33m======================== \u001B[32m3 passed\u001B[0m, \u001B[33m\u001B[1m2 warnings\u001B[0m\u001B[33m in 2.49s\u001B[0m\u001B[33m ========================\u001B[0m\n"
     ]
    }
   ],
   "execution_count": 6
  },
  {
   "metadata": {},
   "cell_type": "code",
   "outputs": [],
   "execution_count": null,
   "source": "",
   "id": "28b7e8c1e98cc47b"
  }
 ],
 "metadata": {
  "kernelspec": {
   "display_name": "Python 3",
   "language": "python",
   "name": "python3"
  },
  "language_info": {
   "codemirror_mode": {
    "name": "ipython",
    "version": 2
   },
   "file_extension": ".py",
   "mimetype": "text/x-python",
   "name": "python",
   "nbconvert_exporter": "python",
   "pygments_lexer": "ipython2",
   "version": "2.7.6"
  }
 },
 "nbformat": 4,
 "nbformat_minor": 5
}
